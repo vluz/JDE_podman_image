{
 "cells": [
  {
   "cell_type": "markdown",
   "id": "68ce79cb-ee91-4717-aa10-4e77ac7f6d0a",
   "metadata": {},
   "source": [
    "# PyCaret exmple with Iris dataset"
   ]
  },
  {
   "cell_type": "code",
   "execution_count": null,
   "id": "49bdbd3f",
   "metadata": {},
   "outputs": [],
   "source": [
    "# Install PyCaret (if not already installed)\n",
    "!pip install pycaret"
   ]
  },
  {
   "cell_type": "code",
   "execution_count": null,
   "id": "25f4d7b4",
   "metadata": {},
   "outputs": [],
   "source": [
    "# Import necessary libraries\n",
    "import pandas as pd\n",
    "from pycaret.classification import *\n",
    "from sklearn.datasets import load_iris"
   ]
  },
  {
   "cell_type": "code",
   "execution_count": null,
   "id": "7b34d372",
   "metadata": {},
   "outputs": [],
   "source": [
    "# Load the Iris dataset\n",
    "iris_data = load_iris()\n",
    "iris_df = pd.DataFrame(iris_data.data, columns=iris_data.feature_names)\n",
    "iris_df['species'] = iris_data.target\n",
    "iris_df.head()"
   ]
  },
  {
   "cell_type": "code",
   "execution_count": null,
   "id": "0b83eec2",
   "metadata": {},
   "outputs": [],
   "source": [
    "# PyCaret Setup\n",
    "classification_setup = setup(data=iris_df, target='species', session_id=42)"
   ]
  },
  {
   "cell_type": "code",
   "execution_count": null,
   "id": "46f5db96",
   "metadata": {},
   "outputs": [],
   "source": [
    "# Compare different models\n",
    "compare_models()"
   ]
  },
  {
   "cell_type": "code",
   "execution_count": null,
   "id": "7a067da7",
   "metadata": {},
   "outputs": [],
   "source": [
    "# Use Quadratic Discriminant Analysis model\n",
    "best_model = create_model('qda')"
   ]
  },
  {
   "cell_type": "code",
   "execution_count": null,
   "id": "6a6c1050",
   "metadata": {},
   "outputs": [],
   "source": [
    "# Tune the model\n",
    "tuned_best_model = tune_model(best_model)"
   ]
  },
  {
   "cell_type": "code",
   "execution_count": null,
   "id": "89b0163a",
   "metadata": {},
   "outputs": [],
   "source": [
    "# Evaluate the tuned model\n",
    "evaluate_model(tuned_best_model)"
   ]
  },
  {
   "cell_type": "code",
   "execution_count": null,
   "id": "68cf63c4",
   "metadata": {},
   "outputs": [],
   "source": [
    "# Make predictions on new data\n",
    "predictions = predict_model(tuned_best_model, data=iris_df)\n",
    "predictions.head()"
   ]
  },
  {
   "cell_type": "code",
   "execution_count": null,
   "id": "3b5da0e0",
   "metadata": {},
   "outputs": [],
   "source": [
    "# Finalize the model\n",
    "final_model = finalize_model(tuned_best_model)"
   ]
  },
  {
   "cell_type": "code",
   "execution_count": null,
   "id": "882ad999",
   "metadata": {},
   "outputs": [],
   "source": [
    "# Save the model\n",
    "save_model(final_model, 'iris_rf_model')"
   ]
  },
  {
   "cell_type": "markdown",
   "id": "90394a73-aafe-48c0-8e2c-47cf37e795dc",
   "metadata": {},
   "source": [
    "## End"
   ]
  },
  {
   "cell_type": "code",
   "execution_count": null,
   "id": "a06c4d13-d25f-4a05-ae8e-6c799dc35062",
   "metadata": {},
   "outputs": [],
   "source": []
  }
 ],
 "metadata": {
  "kernelspec": {
   "display_name": "Python 3 (ipykernel)",
   "language": "python",
   "name": "python3"
  },
  "language_info": {
   "codemirror_mode": {
    "name": "ipython",
    "version": 3
   },
   "file_extension": ".py",
   "mimetype": "text/x-python",
   "name": "python",
   "nbconvert_exporter": "python",
   "pygments_lexer": "ipython3",
   "version": "3.10.13"
  }
 },
 "nbformat": 4,
 "nbformat_minor": 5
}
